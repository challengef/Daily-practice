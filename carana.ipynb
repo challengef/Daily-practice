resultt=np.zeros((sglxl,cxddl,clytl,cllxl,xgcl,jbl))
tyname1=list(sglx.unique())
print(tyname1)
tylen1=len(tyname1)
tyname2=list(cxdd.unique())
print(tyname2)
tylen2=len(tyname2)
tyname3=list(clyt.unique())
print(tyname3)
tylen3=len(tyname3)
tyname4=list(cllx.unique())
print(tyname4)
tylen4=len(tyname4)
tyname5=list(xgc.unique())
print(tyname5)
tylen5=len(tyname5)
tyname6=list(jb.unique())
print(tyname6)
tylen6=len(tyname6)
for i in range(0,len(jb)):
     for j1 in range(0,tylen1):
        if sglx[i]==tyname1[j1]:
            for j2 in range(0,tylen2):
                if cxdd[i]==tyname2[j2]:
                    for j3 in range(0,tylen3):
                        if clyt[i]==tyname3[j3]:
                            for j4 in range(0,tylen4):
                                 if cllx[i]==tyname4[j4]:
                                    for j5 in range(0,tylen5):
                                        if xgc[i]==tyname5[j5]:
                                            for j6 in range(0,tylen6):
                                                if jb[i]==tyname6[j6]:
                                                    resultt[j1,j2,j3,j4,j5,j6]= resultt[j1,j2,j3,j4,j5,j6]+1  
